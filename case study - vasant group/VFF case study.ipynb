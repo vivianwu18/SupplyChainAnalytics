{
  "cells": [
    {
      "attachments": {},
      "cell_type": "markdown",
      "metadata": {
        "id": "h7OEa5oV--R8"
      },
      "source": [
        "# VFF Case Study"
      ]
    },
    {
      "cell_type": "code",
      "execution_count": null,
      "metadata": {
        "id": "to_4xZGp-9Ri"
      },
      "outputs": [],
      "source": [
        "import pandas as pd\n",
        "import numpy as np\n",
        "import scipy.stats as stats"
      ]
    },
    {
      "cell_type": "code",
      "execution_count": null,
      "metadata": {
        "colab": {
          "base_uri": "https://localhost:8080/",
          "height": 206
        },
        "id": "B0MEVNDi_Y07",
        "outputId": "e602052b-6ca5-4eff-8921-88228419d673"
      },
      "outputs": [
        {
          "data": {
            "text/html": [
              "\n",
              "  <div id=\"df-cd45c7ae-104e-49c5-9740-edbb20968118\">\n",
              "    <div class=\"colab-df-container\">\n",
              "      <div>\n",
              "<style scoped>\n",
              "    .dataframe tbody tr th:only-of-type {\n",
              "        vertical-align: middle;\n",
              "    }\n",
              "\n",
              "    .dataframe tbody tr th {\n",
              "        vertical-align: top;\n",
              "    }\n",
              "\n",
              "    .dataframe thead th {\n",
              "        text-align: right;\n",
              "    }\n",
              "</style>\n",
              "<table border=\"1\" class=\"dataframe\">\n",
              "  <thead>\n",
              "    <tr style=\"text-align: right;\">\n",
              "      <th></th>\n",
              "      <th>Date</th>\n",
              "      <th>Minimum Price</th>\n",
              "      <th>Maximum Price</th>\n",
              "      <th>Modal Price</th>\n",
              "    </tr>\n",
              "  </thead>\n",
              "  <tbody>\n",
              "    <tr>\n",
              "      <th>0</th>\n",
              "      <td>2015-04-01</td>\n",
              "      <td>1000</td>\n",
              "      <td>1500</td>\n",
              "      <td>1300</td>\n",
              "    </tr>\n",
              "    <tr>\n",
              "      <th>1</th>\n",
              "      <td>2015-04-02</td>\n",
              "      <td>1000</td>\n",
              "      <td>1500</td>\n",
              "      <td>1300</td>\n",
              "    </tr>\n",
              "    <tr>\n",
              "      <th>2</th>\n",
              "      <td>2015-04-03</td>\n",
              "      <td>1200</td>\n",
              "      <td>1800</td>\n",
              "      <td>1600</td>\n",
              "    </tr>\n",
              "    <tr>\n",
              "      <th>3</th>\n",
              "      <td>2015-04-04</td>\n",
              "      <td>1000</td>\n",
              "      <td>2500</td>\n",
              "      <td>1300</td>\n",
              "    </tr>\n",
              "    <tr>\n",
              "      <th>4</th>\n",
              "      <td>2015-04-06</td>\n",
              "      <td>1000</td>\n",
              "      <td>1800</td>\n",
              "      <td>1500</td>\n",
              "    </tr>\n",
              "  </tbody>\n",
              "</table>\n",
              "</div>\n",
              "      <button class=\"colab-df-convert\" onclick=\"convertToInteractive('df-cd45c7ae-104e-49c5-9740-edbb20968118')\"\n",
              "              title=\"Convert this dataframe to an interactive table.\"\n",
              "              style=\"display:none;\">\n",
              "        \n",
              "  <svg xmlns=\"http://www.w3.org/2000/svg\" height=\"24px\"viewBox=\"0 0 24 24\"\n",
              "       width=\"24px\">\n",
              "    <path d=\"M0 0h24v24H0V0z\" fill=\"none\"/>\n",
              "    <path d=\"M18.56 5.44l.94 2.06.94-2.06 2.06-.94-2.06-.94-.94-2.06-.94 2.06-2.06.94zm-11 1L8.5 8.5l.94-2.06 2.06-.94-2.06-.94L8.5 2.5l-.94 2.06-2.06.94zm10 10l.94 2.06.94-2.06 2.06-.94-2.06-.94-.94-2.06-.94 2.06-2.06.94z\"/><path d=\"M17.41 7.96l-1.37-1.37c-.4-.4-.92-.59-1.43-.59-.52 0-1.04.2-1.43.59L10.3 9.45l-7.72 7.72c-.78.78-.78 2.05 0 2.83L4 21.41c.39.39.9.59 1.41.59.51 0 1.02-.2 1.41-.59l7.78-7.78 2.81-2.81c.8-.78.8-2.07 0-2.86zM5.41 20L4 18.59l7.72-7.72 1.47 1.35L5.41 20z\"/>\n",
              "  </svg>\n",
              "      </button>\n",
              "      \n",
              "  <style>\n",
              "    .colab-df-container {\n",
              "      display:flex;\n",
              "      flex-wrap:wrap;\n",
              "      gap: 12px;\n",
              "    }\n",
              "\n",
              "    .colab-df-convert {\n",
              "      background-color: #E8F0FE;\n",
              "      border: none;\n",
              "      border-radius: 50%;\n",
              "      cursor: pointer;\n",
              "      display: none;\n",
              "      fill: #1967D2;\n",
              "      height: 32px;\n",
              "      padding: 0 0 0 0;\n",
              "      width: 32px;\n",
              "    }\n",
              "\n",
              "    .colab-df-convert:hover {\n",
              "      background-color: #E2EBFA;\n",
              "      box-shadow: 0px 1px 2px rgba(60, 64, 67, 0.3), 0px 1px 3px 1px rgba(60, 64, 67, 0.15);\n",
              "      fill: #174EA6;\n",
              "    }\n",
              "\n",
              "    [theme=dark] .colab-df-convert {\n",
              "      background-color: #3B4455;\n",
              "      fill: #D2E3FC;\n",
              "    }\n",
              "\n",
              "    [theme=dark] .colab-df-convert:hover {\n",
              "      background-color: #434B5C;\n",
              "      box-shadow: 0px 1px 3px 1px rgba(0, 0, 0, 0.15);\n",
              "      filter: drop-shadow(0px 1px 2px rgba(0, 0, 0, 0.3));\n",
              "      fill: #FFFFFF;\n",
              "    }\n",
              "  </style>\n",
              "\n",
              "      <script>\n",
              "        const buttonEl =\n",
              "          document.querySelector('#df-cd45c7ae-104e-49c5-9740-edbb20968118 button.colab-df-convert');\n",
              "        buttonEl.style.display =\n",
              "          google.colab.kernel.accessAllowed ? 'block' : 'none';\n",
              "\n",
              "        async function convertToInteractive(key) {\n",
              "          const element = document.querySelector('#df-cd45c7ae-104e-49c5-9740-edbb20968118');\n",
              "          const dataTable =\n",
              "            await google.colab.kernel.invokeFunction('convertToInteractive',\n",
              "                                                     [key], {});\n",
              "          if (!dataTable) return;\n",
              "\n",
              "          const docLinkHtml = 'Like what you see? Visit the ' +\n",
              "            '<a target=\"_blank\" href=https://colab.research.google.com/notebooks/data_table.ipynb>data table notebook</a>'\n",
              "            + ' to learn more about interactive tables.';\n",
              "          element.innerHTML = '';\n",
              "          dataTable['output_type'] = 'display_data';\n",
              "          await google.colab.output.renderOutput(dataTable, element);\n",
              "          const docLink = document.createElement('div');\n",
              "          docLink.innerHTML = docLinkHtml;\n",
              "          element.appendChild(docLink);\n",
              "        }\n",
              "      </script>\n",
              "    </div>\n",
              "  </div>\n",
              "  "
            ],
            "text/plain": [
              "        Date  Minimum Price  Maximum Price  Modal Price\n",
              "0 2015-04-01           1000           1500         1300\n",
              "1 2015-04-02           1000           1500         1300\n",
              "2 2015-04-03           1200           1800         1600\n",
              "3 2015-04-04           1000           2500         1300\n",
              "4 2015-04-06           1000           1800         1500"
            ]
          },
          "execution_count": 3,
          "metadata": {},
          "output_type": "execute_result"
        }
      ],
      "source": [
        "# Read the data\n",
        "exhibit_06 = pd.read_csv('Exhibit 6.csv')\n",
        "exhibit_06['Date'] = pd.to_datetime(exhibit_06['Date'])\n",
        "exhibit_06.head()"
      ]
    },
    {
      "cell_type": "code",
      "execution_count": null,
      "metadata": {
        "colab": {
          "base_uri": "https://localhost:8080/",
          "height": 206
        },
        "id": "A7JqA3BVOMEG",
        "outputId": "b74cc16b-e26b-4ee3-b8e5-d6bd69634a64"
      },
      "outputs": [
        {
          "data": {
            "text/html": [
              "\n",
              "  <div id=\"df-2efc6e78-be27-4160-a2cb-da0d9914a9d8\">\n",
              "    <div class=\"colab-df-container\">\n",
              "      <div>\n",
              "<style scoped>\n",
              "    .dataframe tbody tr th:only-of-type {\n",
              "        vertical-align: middle;\n",
              "    }\n",
              "\n",
              "    .dataframe tbody tr th {\n",
              "        vertical-align: top;\n",
              "    }\n",
              "\n",
              "    .dataframe thead th {\n",
              "        text-align: right;\n",
              "    }\n",
              "</style>\n",
              "<table border=\"1\" class=\"dataframe\">\n",
              "  <thead>\n",
              "    <tr style=\"text-align: right;\">\n",
              "      <th></th>\n",
              "      <th>Date</th>\n",
              "      <th>Purchase Units</th>\n",
              "      <th>Wastage Units</th>\n",
              "      <th>Retail Sales Units</th>\n",
              "      <th>Wholesale Sales</th>\n",
              "      <th>Total Sales Units</th>\n",
              "      <th>Closing Inventory</th>\n",
              "      <th>Month</th>\n",
              "    </tr>\n",
              "  </thead>\n",
              "  <tbody>\n",
              "    <tr>\n",
              "      <th>0</th>\n",
              "      <td>2015-04-01</td>\n",
              "      <td>42</td>\n",
              "      <td>6</td>\n",
              "      <td>26</td>\n",
              "      <td>10</td>\n",
              "      <td>36</td>\n",
              "      <td>6</td>\n",
              "      <td>4</td>\n",
              "    </tr>\n",
              "    <tr>\n",
              "      <th>1</th>\n",
              "      <td>2015-04-02</td>\n",
              "      <td>47</td>\n",
              "      <td>20</td>\n",
              "      <td>23</td>\n",
              "      <td>4</td>\n",
              "      <td>27</td>\n",
              "      <td>20</td>\n",
              "      <td>4</td>\n",
              "    </tr>\n",
              "    <tr>\n",
              "      <th>2</th>\n",
              "      <td>2015-04-03</td>\n",
              "      <td>53</td>\n",
              "      <td>0</td>\n",
              "      <td>31</td>\n",
              "      <td>26</td>\n",
              "      <td>57</td>\n",
              "      <td>0</td>\n",
              "      <td>4</td>\n",
              "    </tr>\n",
              "    <tr>\n",
              "      <th>3</th>\n",
              "      <td>2015-04-04</td>\n",
              "      <td>101</td>\n",
              "      <td>45</td>\n",
              "      <td>41</td>\n",
              "      <td>15</td>\n",
              "      <td>56</td>\n",
              "      <td>45</td>\n",
              "      <td>4</td>\n",
              "    </tr>\n",
              "    <tr>\n",
              "      <th>4</th>\n",
              "      <td>2015-04-05</td>\n",
              "      <td>73</td>\n",
              "      <td>22</td>\n",
              "      <td>44</td>\n",
              "      <td>7</td>\n",
              "      <td>51</td>\n",
              "      <td>22</td>\n",
              "      <td>4</td>\n",
              "    </tr>\n",
              "  </tbody>\n",
              "</table>\n",
              "</div>\n",
              "      <button class=\"colab-df-convert\" onclick=\"convertToInteractive('df-2efc6e78-be27-4160-a2cb-da0d9914a9d8')\"\n",
              "              title=\"Convert this dataframe to an interactive table.\"\n",
              "              style=\"display:none;\">\n",
              "        \n",
              "  <svg xmlns=\"http://www.w3.org/2000/svg\" height=\"24px\"viewBox=\"0 0 24 24\"\n",
              "       width=\"24px\">\n",
              "    <path d=\"M0 0h24v24H0V0z\" fill=\"none\"/>\n",
              "    <path d=\"M18.56 5.44l.94 2.06.94-2.06 2.06-.94-2.06-.94-.94-2.06-.94 2.06-2.06.94zm-11 1L8.5 8.5l.94-2.06 2.06-.94-2.06-.94L8.5 2.5l-.94 2.06-2.06.94zm10 10l.94 2.06.94-2.06 2.06-.94-2.06-.94-.94-2.06-.94 2.06-2.06.94z\"/><path d=\"M17.41 7.96l-1.37-1.37c-.4-.4-.92-.59-1.43-.59-.52 0-1.04.2-1.43.59L10.3 9.45l-7.72 7.72c-.78.78-.78 2.05 0 2.83L4 21.41c.39.39.9.59 1.41.59.51 0 1.02-.2 1.41-.59l7.78-7.78 2.81-2.81c.8-.78.8-2.07 0-2.86zM5.41 20L4 18.59l7.72-7.72 1.47 1.35L5.41 20z\"/>\n",
              "  </svg>\n",
              "      </button>\n",
              "      \n",
              "  <style>\n",
              "    .colab-df-container {\n",
              "      display:flex;\n",
              "      flex-wrap:wrap;\n",
              "      gap: 12px;\n",
              "    }\n",
              "\n",
              "    .colab-df-convert {\n",
              "      background-color: #E8F0FE;\n",
              "      border: none;\n",
              "      border-radius: 50%;\n",
              "      cursor: pointer;\n",
              "      display: none;\n",
              "      fill: #1967D2;\n",
              "      height: 32px;\n",
              "      padding: 0 0 0 0;\n",
              "      width: 32px;\n",
              "    }\n",
              "\n",
              "    .colab-df-convert:hover {\n",
              "      background-color: #E2EBFA;\n",
              "      box-shadow: 0px 1px 2px rgba(60, 64, 67, 0.3), 0px 1px 3px 1px rgba(60, 64, 67, 0.15);\n",
              "      fill: #174EA6;\n",
              "    }\n",
              "\n",
              "    [theme=dark] .colab-df-convert {\n",
              "      background-color: #3B4455;\n",
              "      fill: #D2E3FC;\n",
              "    }\n",
              "\n",
              "    [theme=dark] .colab-df-convert:hover {\n",
              "      background-color: #434B5C;\n",
              "      box-shadow: 0px 1px 3px 1px rgba(0, 0, 0, 0.15);\n",
              "      filter: drop-shadow(0px 1px 2px rgba(0, 0, 0, 0.3));\n",
              "      fill: #FFFFFF;\n",
              "    }\n",
              "  </style>\n",
              "\n",
              "      <script>\n",
              "        const buttonEl =\n",
              "          document.querySelector('#df-2efc6e78-be27-4160-a2cb-da0d9914a9d8 button.colab-df-convert');\n",
              "        buttonEl.style.display =\n",
              "          google.colab.kernel.accessAllowed ? 'block' : 'none';\n",
              "\n",
              "        async function convertToInteractive(key) {\n",
              "          const element = document.querySelector('#df-2efc6e78-be27-4160-a2cb-da0d9914a9d8');\n",
              "          const dataTable =\n",
              "            await google.colab.kernel.invokeFunction('convertToInteractive',\n",
              "                                                     [key], {});\n",
              "          if (!dataTable) return;\n",
              "\n",
              "          const docLinkHtml = 'Like what you see? Visit the ' +\n",
              "            '<a target=\"_blank\" href=https://colab.research.google.com/notebooks/data_table.ipynb>data table notebook</a>'\n",
              "            + ' to learn more about interactive tables.';\n",
              "          element.innerHTML = '';\n",
              "          dataTable['output_type'] = 'display_data';\n",
              "          await google.colab.output.renderOutput(dataTable, element);\n",
              "          const docLink = document.createElement('div');\n",
              "          docLink.innerHTML = docLinkHtml;\n",
              "          element.appendChild(docLink);\n",
              "        }\n",
              "      </script>\n",
              "    </div>\n",
              "  </div>\n",
              "  "
            ],
            "text/plain": [
              "        Date  Purchase Units  Wastage Units  Retail Sales Units  \\\n",
              "0 2015-04-01              42              6                  26   \n",
              "1 2015-04-02              47             20                  23   \n",
              "2 2015-04-03              53              0                  31   \n",
              "3 2015-04-04             101             45                  41   \n",
              "4 2015-04-05              73             22                  44   \n",
              "\n",
              "   Wholesale Sales  Total Sales Units  Closing Inventory  Month  \n",
              "0               10                 36                  6      4  \n",
              "1                4                 27                 20      4  \n",
              "2               26                 57                  0      4  \n",
              "3               15                 56                 45      4  \n",
              "4                7                 51                 22      4  "
            ]
          },
          "execution_count": 5,
          "metadata": {},
          "output_type": "execute_result"
        }
      ],
      "source": [
        "# Read the data\n",
        "exhibit_07 = pd.read_excel('Exhibit 7.xlsx')\n",
        "exhibit_07['Date'] = pd.to_datetime(exhibit_07['Date'])\n",
        "exhibit_07['Month'] = exhibit_07['Date'].dt.month\n",
        "\n",
        "exhibit_07.head() "
      ]
    },
    {
      "attachments": {},
      "cell_type": "markdown",
      "metadata": {
        "id": "8auK0JQ3Oz04"
      },
      "source": [
        "## Question 01\n",
        "What are the typical post harvest concerns for farmers and what is the role of a collection center in integrating farm supply chains and improving fresh produce distribution ? How does the supply chain network for VFF compare with traditional fresh produce distribution?"
      ]
    },
    {
      "attachments": {},
      "cell_type": "markdown",
      "metadata": {
        "id": "-AwIZG6RywRa"
      },
      "source": [
        "**Post-harvest concerns for farmers :**\n",
        "Post-harvest concerns for farmers include the preservation of crop quality, maintaining freshness, preventing spoilage, minimizing losses, and ensuring timely transportation and delivery to markets. \n",
        "\n",
        "**Role of a collection center :**\n",
        "A collection center plays a crucial role in integrating farm supply chains and improving fresh produce distribution. It serves as an aggregation point for farmers to bring their produce, where it is sorted, graded, and packaged for transportation to markets. The collection center also provides farmers with access to market information, facilitates negotiations with buyers, and offers training on best post-harvest handling practices. By streamlining the collection and distribution process, collection centers help to reduce post-harvest losses, improve the quality of fresh produce, and increase farmers' income.\n",
        "\n",
        "**Supply chain network for VFF v.s Traditional fresh produce distribution**\n",
        "The supply chain network for VFF differs from traditional fresh produce distribution in that it is a direct-to-consumer model. VFF connects farmers directly with consumers through the collection center, eliminating intermediaries and reducing the time and costs associated with traditional supply chain networks. By bypassing traditional supply chain intermediaries, VFF can offer farmers better prices for their produce while providing consumers with fresher, locally sourced products. Additionally, VFF's supply chain network can help to reduce food waste by providing consumers with more accurate information about the availability of fresh produce and reducing the need for excess inventory."
      ]
    },
    {
      "attachments": {},
      "cell_type": "markdown",
      "metadata": {
        "id": "7VnBBS3uMc3Y"
      },
      "source": [
        "## Question 02\n",
        "What profit does the farmer earn on produce and how does this compare with the actual customer purchase price from a retail outlet ?"
      ]
    },
    {
      "cell_type": "code",
      "execution_count": null,
      "metadata": {
        "colab": {
          "base_uri": "https://localhost:8080/"
        },
        "id": "FmDBBzPXOl9h",
        "outputId": "45ea0879-40f5-4199-8cca-7f99175dfb39"
      },
      "outputs": [
        {
          "name": "stdout",
          "output_type": "stream",
          "text": [
            "The farmer earn 8.25 per kilogram on produce.\n"
          ]
        }
      ],
      "source": [
        "# Farmer Profit \n",
        "print(f'The farmer earn {10-1.25-0.25-0.25} per kilogram on produce.')"
      ]
    },
    {
      "attachments": {},
      "cell_type": "markdown",
      "metadata": {
        "id": "6o-tve_XhoMu"
      },
      "source": [
        "Assuming the selling price follows the uniform distribution between 20 and 25, we can tell that the selling price is twice more than the profit earn by farmers on produce."
      ]
    },
    {
      "attachments": {},
      "cell_type": "markdown",
      "metadata": {
        "id": "m-BHblWQN5lG"
      },
      "source": [
        "## Question 03\n",
        "List the produce attributes and other variables influencing demand for produce that affect the quantity to be procured by VFF."
      ]
    },
    {
      "attachments": {},
      "cell_type": "markdown",
      "metadata": {
        "id": "fVHIZjMFN8Mz"
      },
      "source": [
        "The demand for produce and the quantity to be procured by VFF can be influenced by various attributes and variables such as:\n",
        "\n",
        "1. Quality: The quality of the produce is a crucial factor that can significantly impact demand. Produce that is fresh, visually appealing, and free from defects is more likely to be in demand.\n",
        "2. Temperature control: As F&V are sensitive to heat, proper temperature control during transportation and storage is necessary to prevent spoilage and increase the shelf life of the produce.\n",
        "3. Handling: Over-handling or inappropriate handling of produce can lead to spoilage, bruising, and other damage that can decrease the quality of the produce and reduce demand.\n",
        "4. Moisture loss: Moisture loss is a common cause of wastage in produce. VFF needs to ensure that the produce is stored and transported under appropriate conditions to minimize moisture loss.\n",
        "5. Packaging: Poor packaging can also lead to spoilage and wastage of produce. Adequate packaging can help to protect the produce from damage and extend its shelf life.\n",
        "6. Storage conditions: Different types of produce require different storage techniques and temperatures. Proper storage conditions are necessary to prevent spoilage and maintain the quality of the produce.\n",
        "7. Overestimation of demand: Overestimation of demand can result in excess inventory, which can lead to spoilage and wastage of produce. VFF needs to accurately estimate demand to prevent excess inventory and minimize wastage.\n",
        "8. Type of produce: Different types of produce have different characteristics and requirements. VFF needs to consider the specific attributes of each type of produce to determine the quantity to be procured and ensure that it is of high quality and in demand."
      ]
    },
    {
      "attachments": {},
      "cell_type": "markdown",
      "metadata": {
        "id": "6Sn00ccqQIqU"
      },
      "source": [
        "## Question 04\n",
        "How should Vasant Farm Fresh (VFF) reduce food wastage ? Consider three different scenarios:"
      ]
    },
    {
      "attachments": {},
      "cell_type": "markdown",
      "metadata": {
        "id": "Gi_xGbPZiIBz"
      },
      "source": [
        "We first calculate the current wastage ratio for the later comparisons."
      ]
    },
    {
      "cell_type": "code",
      "execution_count": null,
      "metadata": {
        "colab": {
          "base_uri": "https://localhost:8080/"
        },
        "id": "-mqh5XVRXESm",
        "outputId": "8c2e3904-956c-4fba-a33f-2c7c827a0ad2"
      },
      "outputs": [
        {
          "data": {
            "text/plain": [
              "Month\n",
              "4    0.443697\n",
              "5    0.583266\n",
              "dtype: float64"
            ]
          },
          "execution_count": 8,
          "metadata": {},
          "output_type": "execute_result"
        }
      ],
      "source": [
        "# Original wastage ratio\n",
        "(exhibit_07.groupby('Month')['Purchase Units'].sum() - exhibit_07.groupby('Month')['Total Sales Units'].sum()) / exhibit_07.groupby('Month')['Purchase Units'].sum()"
      ]
    },
    {
      "attachments": {},
      "cell_type": "markdown",
      "metadata": {
        "id": "r3W4XUSmTB4n"
      },
      "source": [
        "### (a)\n",
        "Determine the optimal procurement quantity for cauliflower assuming that the average cost price and average selling price take fixed values and shelf life in one day."
      ]
    },
    {
      "cell_type": "code",
      "execution_count": null,
      "metadata": {
        "colab": {
          "base_uri": "https://localhost:8080/"
        },
        "id": "n_TGTkYNQkll",
        "outputId": "192d6f15-22d4-4b36-8aa8-5d6f7f59809f"
      },
      "outputs": [
        {
          "name": "stdout",
          "output_type": "stream",
          "text": [
            "The optimal procurement quantity for cauliflower is 49.\n"
          ]
        }
      ],
      "source": [
        "# Average Sales\n",
        "avg_purchase = exhibit_07['Purchase Units'].mean()\n",
        "# Standard Deviation\n",
        "std_purchase = exhibit_07['Purchase Units'].std()\n",
        "# Critial Ratio \n",
        "co_01 = 9.14\n",
        "cu_01 = 8.65\n",
        "cr_01 = cu_01/(co_01+cu_01)\n",
        "# Z-score\n",
        "z_01 = stats.norm.ppf(cr_01, loc = 0, scale = 1)\n",
        "# Optimal Quantity\n",
        "Q_star_01 = round(z_01 * std_purchase + avg_purchase)\n",
        "print(f\"The optimal procurement quantity for cauliflower is {Q_star_01}.\")"
      ]
    },
    {
      "cell_type": "code",
      "execution_count": null,
      "metadata": {
        "id": "JhgywQp-YWGg"
      },
      "outputs": [],
      "source": [
        "# Calculate the daily wastage\n",
        "exhibit_07['wastageA'] = exhibit_07.apply(\n",
        "    lambda row: 0 if Q_star_01 - row['Total Sales Units'] < 0 else Q_star_01 - row['Total Sales Units'], axis=1)"
      ]
    },
    {
      "cell_type": "code",
      "execution_count": null,
      "metadata": {
        "colab": {
          "base_uri": "https://localhost:8080/"
        },
        "id": "fkZRSp7rF7LD",
        "outputId": "04872147-7f68-4331-d338-1741a93d7bf2"
      },
      "outputs": [
        {
          "data": {
            "text/plain": [
              "Month\n",
              "4    0.336054\n",
              "5    0.671494\n",
              "dtype: float64"
            ]
          },
          "execution_count": 11,
          "metadata": {},
          "output_type": "execute_result"
        }
      ],
      "source": [
        "# Calculate wastage ratio in the first case\n",
        "exhibit_07.groupby('Month')['wastageA'].sum() / (exhibit_07.groupby('Month')['Date'].count()*Q_star_01)"
      ]
    },
    {
      "attachments": {},
      "cell_type": "markdown",
      "metadata": {
        "id": "mnXdY2OeTFrr"
      },
      "source": [
        "### (b)\n",
        "Determine the optimal procurement quantity by using daily price point for purchases and sales. Assume a one day shelf life."
      ]
    },
    {
      "cell_type": "code",
      "execution_count": null,
      "metadata": {
        "id": "1ShYcZFgYCPH"
      },
      "outputs": [],
      "source": [
        "# Assume a constant salvage price of Rs 5 /kg of cauliflower. \n",
        "# Assume a selling price of U[20, 25] (i.e. The selling price comes from a uniform distribution  between 20 and 25 )\n",
        "# To get the purchase price, fit a normal distribution to the modal price you see in the table of Exhibit 6.\n",
        "\n",
        "# Generate a sample for selling price of U[20,25]\n",
        "import random\n",
        "from scipy.stats import norm\n",
        "\n",
        "random.seed(716)\n",
        "sample_size = 52\n",
        "exhibit_06['Selling Price'] = [random.uniform(20, 25) for _ in range(sample_size)]\n",
        "\n",
        "# Fit the normal distribution to the modal price\n",
        "mu, std = norm.fit(exhibit_06['Modal Price']/100)\n",
        "exhibit_06['Modal Price Fitted'] = np.random.normal(mu, std, size = sample_size)\n",
        "\n",
        "# Calculate\n",
        "exhibit_06['cu_02'] = exhibit_06['Selling Price'] - exhibit_06['Modal Price Fitted']\n",
        "exhibit_06['co_02'] = exhibit_06['Modal Price Fitted'] - 5\n",
        "exhibit_06['cr_02'] = exhibit_06['cu_02']/(exhibit_06['co_02']+exhibit_06['cu_02'])\n",
        "\n",
        "# Z-score\n",
        "exhibit_06['z_02'] = stats.norm.ppf(exhibit_06['cr_02'], loc = 0, scale = 1)\n",
        "\n",
        "# Optimal Quantity\n",
        "exhibit_06['Q_star_b'] = round(exhibit_06['z_02'] * std_purchase + avg_purchase,0)"
      ]
    },
    {
      "cell_type": "code",
      "execution_count": null,
      "metadata": {
        "id": "-CLt-a7VaaZR"
      },
      "outputs": [],
      "source": [
        "# Wastage to be calculated when we write report\n",
        "a = exhibit_06[['Date','Q_star_b']]\n",
        "b = exhibit_07[['Date','Total Sales Units','Purchase Units']]\n",
        "merged_df = pd.merge(a, b, on = 'Date', how = 'outer')\n",
        "\n",
        "# Fill the empty data rows\n",
        "merged_df['Q_star_b'] = merged_df.sort_values('Date')['Q_star_b'].ffill(axis = 0)\n",
        "merged_df['wastageB'] = merged_df.apply(\n",
        "    lambda row: 0 if row['Q_star_b'] - row['Total Sales Units'] < 0 else row['Q_star_b'] - row['Total Sales Units'], axis=1)"
      ]
    },
    {
      "cell_type": "code",
      "execution_count": null,
      "metadata": {
        "colab": {
          "base_uri": "https://localhost:8080/"
        },
        "id": "IFyFZcciyMRV",
        "outputId": "e28482ce-87b5-48b9-b616-9f03dbe97791"
      },
      "outputs": [
        {
          "data": {
            "text/plain": [
              "Month\n",
              "4    0.361072\n",
              "5    0.667099\n",
              "dtype: float64"
            ]
          },
          "execution_count": 53,
          "metadata": {},
          "output_type": "execute_result"
        }
      ],
      "source": [
        "# Optimized wastage ratio assuming a one day shelf life\n",
        "merged_df['Month'] = merged_df['Date'].dt.month\n",
        "merged_df.groupby('Month')['wastageB'].sum() / merged_df.groupby('Month')['Q_star_b'].sum()"
      ]
    },
    {
      "attachments": {},
      "cell_type": "markdown",
      "metadata": {
        "id": "6cfpBMkTHGdT"
      },
      "source": [
        "### (c)\n",
        "Determine the optimal procurement quantity by using daily price point for purchases and sales. Assume a two day shelf life."
      ]
    },
    {
      "cell_type": "code",
      "execution_count": null,
      "metadata": {
        "id": "HoKjKKiEJguK"
      },
      "outputs": [],
      "source": [
        "merged_df['Leftover'] = merged_df['Q_star_b'] - merged_df['Total Sales Units']\n",
        "merged_df['Lag_Leftover'] = merged_df['Leftover'].shift(1).fillna(0)\n",
        "\n",
        "# Assume all produce follow FIFO method (ex. The leftover in the first day should be sold at very first in the second day.)\n",
        "def cal_wastageC(row):\n",
        "  if row['Lag_Leftover'] > row['Total Sales Units']:\n",
        "    return row['Lag_Leftover'] - row['Total Sales Units']\n",
        "  else:\n",
        "    return 0\n",
        "\n",
        "merged_df['wastageC'] = merged_df.apply(cal_wastageC, axis=1)"
      ]
    },
    {
      "cell_type": "code",
      "execution_count": null,
      "metadata": {
        "colab": {
          "base_uri": "https://localhost:8080/"
        },
        "id": "GBpI9EQIQ8pl",
        "outputId": "b3341f06-4165-4662-ee8f-f250b5a335bc"
      },
      "outputs": [
        {
          "data": {
            "text/plain": [
              "Month\n",
              "4    0.066291\n",
              "5    0.356262\n",
              "dtype: float64"
            ]
          },
          "execution_count": 55,
          "metadata": {},
          "output_type": "execute_result"
        }
      ],
      "source": [
        "# Optimized wastage ratio assuming a two day shelf life\n",
        "merged_df.groupby('Month')['wastageC'].sum() / merged_df.groupby('Month')['Q_star_b'].sum()"
      ]
    },
    {
      "attachments": {},
      "cell_type": "markdown",
      "metadata": {
        "id": "y5fuF8g_uylh"
      },
      "source": [
        "### Summary of the wastage ratio:\n",
        "\n",
        "|      |Original|Case A|Case B|Case C|\n",
        "|------|------|------|------|------|\n",
        "|**April**|0.443697|0.336054|0.361072|0.066291|\n",
        "|**May**|0.583266|0.671494|0.667099|0.356262|"
      ]
    },
    {
      "attachments": {},
      "cell_type": "markdown",
      "metadata": {
        "id": "aLB__rEKaHlN"
      },
      "source": [
        "## Question 05"
      ]
    },
    {
      "attachments": {},
      "cell_type": "markdown",
      "metadata": {
        "id": "TIpBjJcLacLl"
      },
      "source": [
        "What other decision areas should VVF be concerned about ?"
      ]
    },
    {
      "attachments": {},
      "cell_type": "markdown",
      "metadata": {
        "id": "i5gVuGRV9WPS"
      },
      "source": [
        "- Supply chain management: optimizing transportation flow to reduce waste and increase profit\n",
        "- Guiding the farmers: analyzing customer preferences to help farmers grow the most popular fruits and vegetables, which reduces waste and meets customer demand\n",
        "- Quality enhancement: setting standards and procedures for handling, packaging, and transporting produce to ensure it is delivered in pristine condition, which can increase customer loyalty and satisfaction\n",
        "- New product development and innovation: exploring new types of fruits and vegetables that are not yet in the market, experimenting with new farming techniques to improve efficiency and yield, and staying ahead of the competition by diversifying the product line and keeping up with the latest trends and technology."
      ]
    }
  ],
  "metadata": {
    "colab": {
      "provenance": []
    },
    "kernelspec": {
      "display_name": "Python 3",
      "name": "python3"
    },
    "language_info": {
      "name": "python"
    }
  },
  "nbformat": 4,
  "nbformat_minor": 0
}
