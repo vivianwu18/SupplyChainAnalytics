{
  "cells": [
    {
      "attachments": {},
      "cell_type": "markdown",
      "metadata": {
        "id": "BreG2BHg8HmX"
      },
      "source": [
        "# Supply Chain Contract"
      ]
    },
    {
      "attachments": {},
      "cell_type": "markdown",
      "metadata": {
        "id": "SiXppJ1zEKqU"
      },
      "source": [
        "def 1. Based on the given discrete distribution, what are the overage and underage costs and how many baklavas should Nergis make at the start of each day?"
      ]
    },
    {
      "cell_type": "code",
      "execution_count": null,
      "metadata": {
        "colab": {
          "base_uri": "https://localhost:8080/"
        },
        "id": "FAMOx9pI8KV1",
        "outputId": "d885171f-ff31-4356-d254-e694e50cc0bd"
      },
      "outputs": [
        {
          "name": "stdout",
          "output_type": "stream",
          "text": [
            "The overage cost is 0.15 dollar.\n",
            "The underage cost is 0.35 dollar.\n",
            "The critical ratio is: 0.7\n"
          ]
        }
      ],
      "source": [
        "overage1 = 0.15\n",
        "underage1 = 0.50 - 0.15\n",
        "\n",
        "print(f'The overage cost is {overage1} dollar.')\n",
        "print(f'The underage cost is {underage1} dollar.')\n",
        "\n",
        "critical_ratio1 = underage1 / (underage1 + overage1)\n",
        "print('The critical ratio is:', critical_ratio1)"
      ]
    },
    {
      "cell_type": "code",
      "execution_count": null,
      "metadata": {
        "colab": {
          "base_uri": "https://localhost:8080/"
        },
        "id": "2J9D1sLOEVgC",
        "outputId": "58ec8d9c-5e19-4edb-907b-149c519c40f7"
      },
      "outputs": [
        {
          "name": "stdout",
          "output_type": "stream",
          "text": [
            "Nergis should make 26 baklavas at the start of each day.\n"
          ]
        }
      ],
      "source": [
        "mean1 = 0 * 0.05 + 5 * 0.08 + 10 * 0.09 + 15 * 0.10 + 20 * 0.15 + 25 * 0.25 + 30 * 0.15 + 35 * 0.13\n",
        "std1 = math.sqrt(((0 - mean1)**2 * 0.05 + (5 - mean1)**2 * 0.08 + (10 - mean1)**2 * 0.09 + (15 - mean1)**2 * 0.1 \n",
        "                 + (20 - mean1)**2 * 0.15+ (25 - mean1)**2 * 0.25 + (30 - mean1)**2 * 0.15 + (35 - mean1)**2 * 0.13))\n",
        "\n",
        "z_score1 = stats.norm.ppf(critical_ratio1, loc = 0, scale = 1)\n",
        "optimal_quantity1 = round(std1 * z_score1 + mean1)\n",
        "print(f'Nergis should make {optimal_quantity1} baklavas at the start of each day.')"
      ]
    },
    {
      "attachments": {},
      "cell_type": "markdown",
      "metadata": {
        "id": "0ejNJFrxERJY"
      },
      "source": [
        "2. Now, suppose that the baklavas unsold at the end of the day are purchased by a nearby food kitchen for 5 cents each. What are the overage and underage costs in this case? How many baklavas should Nergis make at the start of each day?"
      ]
    },
    {
      "cell_type": "code",
      "execution_count": null,
      "metadata": {
        "colab": {
          "base_uri": "https://localhost:8080/"
        },
        "id": "GetbDf8qERbs",
        "outputId": "bfda2c3b-5704-4f13-d47a-b033d8ffc1cf"
      },
      "outputs": [
        {
          "name": "stdout",
          "output_type": "stream",
          "text": [
            "The overage cost is 0.1 dollar.\n",
            "The underage cost is 0.35 dollar.\n",
            "The critical ratio is: 0.7777777777777778\n"
          ]
        }
      ],
      "source": [
        "overage2 = 0.15 - 0.05\n",
        "underage2 = 0.50 - 0.15\n",
        "\n",
        "print(f'The overage cost is {round(overage2, 2)} dollar.')\n",
        "print(f'The underage cost is {round(underage2, 2)} dollar.')\n",
        "\n",
        "critical_ratio2 = underage2 / (underage2 + overage2)\n",
        "print('The critical ratio is:', critical_ratio2)"
      ]
    },
    {
      "cell_type": "code",
      "execution_count": null,
      "metadata": {
        "colab": {
          "base_uri": "https://localhost:8080/"
        },
        "id": "Bmh01yioEZvH",
        "outputId": "cd04a21b-612b-4ac9-a5dc-c67c5afd8dfb"
      },
      "outputs": [
        {
          "name": "stdout",
          "output_type": "stream",
          "text": [
            "Nergis should make 29 baklavas at the start of each day.\n"
          ]
        }
      ],
      "source": [
        "z_score2 = stats.norm.ppf(critical_ratio2, loc = 0, scale = 1)\n",
        "optimal_quantity2 = round(std1 * z_score2 + mean1)\n",
        "print(f'Nergis should make {optimal_quantity2} baklavas at the start of each day.')"
      ]
    },
    {
      "attachments": {},
      "cell_type": "markdown",
      "metadata": {
        "id": "8fBZ4oUJESHW"
      },
      "source": [
        "**Consider the following parts seperately from the previous two parts.**\n",
        "3. Now,instead of making the baklavas, Nergis buys baklavas from Cemile’s store every morning at 20 cents each and sells them for 50 cents. In addition, to promote the sales of baklavas, Cemile’s store buys back the leftover baklavas at the end of the day from Nergis at 7 cents. What are the overage and underage costs in this case? How many baklavas should Nergis buy at the start of each day?"
      ]
    },
    {
      "cell_type": "code",
      "execution_count": null,
      "metadata": {
        "colab": {
          "base_uri": "https://localhost:8080/"
        },
        "id": "c9L9GD_OESf0",
        "outputId": "d1eac2dc-31cb-40de-b3ce-12dbc5201d1d"
      },
      "outputs": [
        {
          "name": "stdout",
          "output_type": "stream",
          "text": [
            "The overage cost is 0.13 dollar.\n",
            "The underage cost is 0.3 dollar.\n",
            "The critical ratio is: 0.6976744186046512\n"
          ]
        }
      ],
      "source": [
        "overage3 = 0.20 - 0.07\n",
        "underage3 = 0.50 - 0.20\n",
        "\n",
        "print(f'The overage cost is {round(overage3, 2)} dollar.')\n",
        "print(f'The underage cost is {round(underage3, 2)} dollar.')\n",
        "\n",
        "critical_ratio3 = underage3 / (underage3 + overage3)\n",
        "print('The critical ratio is:', critical_ratio3)"
      ]
    },
    {
      "cell_type": "code",
      "execution_count": null,
      "metadata": {
        "colab": {
          "base_uri": "https://localhost:8080/"
        },
        "id": "wmDGn7rhEg56",
        "outputId": "0c8ff449-20f6-402c-bac1-2453de6f1542"
      },
      "outputs": [
        {
          "name": "stdout",
          "output_type": "stream",
          "text": [
            "Nergis should buy 26 baklavas at the start of each day.\n"
          ]
        }
      ],
      "source": [
        "z_score3 = stats.norm.ppf(critical_ratio3, loc = 0, scale = 1)\n",
        "optimal_quantity3 = round(std1 * z_score3 + mean1)\n",
        "print(f'Nergis should buy {optimal_quantity3} baklavas at the start of each day.')"
      ]
    },
    {
      "attachments": {},
      "cell_type": "markdown",
      "metadata": {
        "id": "cCKrmOSQETB9"
      },
      "source": [
        "4. Nergis still buys the baklavas from Cemile’s store every morning at 20 cents each and sells them for 50 cents. But now, instead of buying back the unsold units, Cemile’s store agrees to pay Nergis a rebate of 2 cents for every unit sold to end customers at Nergis’s. What are the overage and underage costs in this case? How many baklavas should Nergis buy at the start of the day?"
      ]
    },
    {
      "cell_type": "code",
      "execution_count": null,
      "metadata": {
        "colab": {
          "base_uri": "https://localhost:8080/"
        },
        "id": "aelB-j-zETYn",
        "outputId": "976fb16a-eaf0-4967-9e8e-1f50754c75a3"
      },
      "outputs": [
        {
          "name": "stdout",
          "output_type": "stream",
          "text": [
            "The overage cost is 0.2 dollar.\n",
            "The underage cost is 0.32 dollar.\n",
            "The critical ratio is: 0.6153846153846154\n"
          ]
        }
      ],
      "source": [
        "overage4 = 0.20 \n",
        "underage4 = 0.50 - 0.20 + 0.02\n",
        "\n",
        "print(f'The overage cost is {round(overage4, 2)} dollar.')\n",
        "print(f'The underage cost is {round(underage4, 2)} dollar.')\n",
        "\n",
        "critical_ratio4 = underage4 / (underage4 + overage4)\n",
        "print('The critical ratio is:', critical_ratio4)"
      ]
    },
    {
      "cell_type": "code",
      "execution_count": null,
      "metadata": {
        "colab": {
          "base_uri": "https://localhost:8080/"
        },
        "id": "tRsnzBovEmwi",
        "outputId": "33e35408-7eb9-4e0d-c4e1-2df5fe2d4238"
      },
      "outputs": [
        {
          "name": "stdout",
          "output_type": "stream",
          "text": [
            "Nergis should buy 24 baklavas at the start of each day.\n"
          ]
        }
      ],
      "source": [
        "z_score4 = stats.norm.ppf(critical_ratio4, loc = 0, scale = 1)\n",
        "optimal_quantity4 = round(std1 * z_score4 + mean1)\n",
        "print(f'Nergis should buy {optimal_quantity4} baklavas at the start of each day.')"
      ]
    }
  ],
  "metadata": {
    "colab": {
      "provenance": []
    },
    "kernelspec": {
      "display_name": "Python 3",
      "name": "python3"
    },
    "language_info": {
      "name": "python"
    }
  },
  "nbformat": 4,
  "nbformat_minor": 0
}
