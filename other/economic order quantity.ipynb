{
  "cells": [
    {
      "attachments": {},
      "cell_type": "markdown",
      "metadata": {
        "id": "RvgWOt537em0"
      },
      "source": [
        "## Economic Order Quantity (EOQ)"
      ]
    },
    {
      "attachments": {},
      "cell_type": "markdown",
      "metadata": {
        "id": "49V14zHD7iXi"
      },
      "source": [
        "1. What are the EOQs for A and B? What are the annual setup and holding costs for A and B?\n",
        "- Total Cost = Setup Cost + Holding Cost + Purchase Cost: $TC(Q)$ = $(\\frac{\\lambda}{Q})K + h(\\frac{Q}{2}) + \\lambda c$\n",
        "- $Q^*$ minimizes the total cost function : $Q^*$ = $\\sqrt{\\frac{2K\\lambda}{h}}$.      "
      ]
    },
    {
      "cell_type": "code",
      "execution_count": null,
      "metadata": {
        "id": "TBbuJ_nV7ltr"
      },
      "outputs": [],
      "source": [
        "## Define functions for calculation \n",
        "import math\n",
        "\n",
        "def EOQ(k, l, h):\n",
        "  return round(math.sqrt((2*k*l*12)/h))\n",
        "\n",
        "def Setup_Cost(l, EOQ, k):\n",
        "  return (l*12/EOQ)*k \n",
        "\n",
        "def Holding_Cost(EOQ,h):\n",
        "  return EOQ // 2 * h"
      ]
    },
    {
      "attachments": {},
      "cell_type": "markdown",
      "metadata": {
        "id": "oeU-II8J7oDW"
      },
      "source": [
        "For product A:        \n",
        "- K = \\$200,\n",
        "- $\\lambda$ = 250/month,      \n",
        "- h = ic = 0.15*700 = \\$105        \n",
        "\n",
        "For product B:        \n",
        "- K = \\$200,\n",
        "- $\\lambda$ = 300/month,       \n",
        "- h = ic = 0.15*800 = \\$120  "
      ]
    },
    {
      "cell_type": "code",
      "execution_count": null,
      "metadata": {
        "colab": {
          "base_uri": "https://localhost:8080/"
        },
        "id": "xMrbeTu27qSf",
        "outputId": "dba9baec-62e6-424d-a4d4-9cc821b4f90e"
      },
      "outputs": [
        {
          "name": "stdout",
          "output_type": "stream",
          "text": [
            "The EOQ for product A is: 107\n",
            "The setup cost for product A is: 5607.5\n",
            "The holding cost for product A is: 5565\n",
            "=======================================\n",
            "The EOQ for product B is: 110\n",
            "The setup cost for product B is: 6545.454545454545\n",
            "The holding cost for product B is: 6600\n"
          ]
        }
      ],
      "source": [
        "## Use function to calculate \n",
        "\n",
        "# Product A\n",
        "EOQ_A = EOQ(200,250,105)\n",
        "Setup_Cost_A = Setup_Cost(250, EOQ_A,200)\n",
        "Holding_Cost_A = Holding_Cost(EOQ_A,105)\n",
        "print(\"The EOQ for product A is: {}\".format(EOQ_A))\n",
        "print(\"The setup cost for product A is: {:.1f}\".format(Setup_Cost_A))\n",
        "print(\"The holding cost for product A is: {}\".format(Holding_Cost_A))\n",
        "print(\"=======================================\")\n",
        "\n",
        "# Product B\n",
        "EOQ_B = EOQ(200,300,120)\n",
        "Setup_Cost_B = Setup_Cost(300,EOQ_B,200)\n",
        "Holding_Cost_B = Holding_Cost(EOQ_B,120)\n",
        "print(\"The EOQ for product B is: {}\".format(EOQ_B))\n",
        "print(\"The setup cost for product B is: {}\".format(Setup_Cost_B))\n",
        "print(\"The holding cost for product B is: {}\".format(Holding_Cost_B))"
      ]
    },
    {
      "attachments": {},
      "cell_type": "markdown",
      "metadata": {
        "id": "6pjVYxgR7uMk"
      },
      "source": [
        "2. Currently the store has a storage constraint tha t it can only hold 60 units of A and 75 units of B. What will be the optimal order quanti- ties for A and B? What will be the resulting annual setup and holding costs? (Assume that the space for A cannot be used for B and vice versa.)"
      ]
    },
    {
      "cell_type": "code",
      "execution_count": null,
      "metadata": {
        "colab": {
          "base_uri": "https://localhost:8080/"
        },
        "id": "3TgWb9c-7tVN",
        "outputId": "ff2fb121-67b2-4b6c-f6d2-1e9047dedc80"
      },
      "outputs": [
        {
          "name": "stdout",
          "output_type": "stream",
          "text": [
            "The EOQ for product A is: 60\n",
            "The setup cost for product A is: 10000.0\n",
            "The holding cost for product A is: 3150\n",
            "=======================================\n",
            "The EOQ for product B is: 75\n",
            "The setup cost for product B is: 9600.0\n",
            "The holding cost for product B is: 4440\n"
          ]
        }
      ],
      "source": [
        "## Use function to calculate \n",
        "\n",
        "## Product A\n",
        "# As the EOQ_A has reached the limit of the storage, so we adjust the EOQ to be the exact storage capacity : 60\n",
        "EOQ_A_new = 60\n",
        "Setup_Cost_A_new = Setup_Cost(250,EOQ_A_new,200)\n",
        "Holding_Cost_A_new = Holding_Cost(EOQ_A_new,105)\n",
        "print(\"The EOQ for product A is: {}\".format(EOQ_A_new))\n",
        "print(\"The setup cost for product A is: {:.1f}\".format(Setup_Cost_A_new))\n",
        "print(\"The holding cost for product A is: {}\".format(Holding_Cost_A_new))\n",
        "print(\"=======================================\")\n",
        "\n",
        "## Product B\n",
        "# As the EOQ_B has reached the limit of the storage, so we adjust the EOQ to be the exact storage capacity : 75\n",
        "EOQ_B_new = 75\n",
        "Setup_Cost_B_new = Setup_Cost(300,EOQ_B_new,200)\n",
        "Holding_Cost_B_new = Holding_Cost(EOQ_B_new,120)\n",
        "print(\"The EOQ for product B is: {}\".format(EOQ_B_new))\n",
        "print(\"The setup cost for product B is: {}\".format(Setup_Cost_B_new))\n",
        "print(\"The holding cost for product B is: {}\".format(Holding_Cost_B_new))"
      ]
    },
    {
      "attachments": {},
      "cell_type": "markdown",
      "metadata": {
        "id": "FUa5hS7479yV"
      },
      "source": [
        "3. Let T denote time between successive orders. What will be the optimal T if you wants to minimize the total setup and holding cost? What are the corresponding order quantities?"
      ]
    },
    {
      "attachments": {},
      "cell_type": "markdown",
      "metadata": {
        "id": "SIElLlDwTgDv"
      },
      "source": [
        "Total Cost = Setup Cost + Holding Cost + Purchase Cost \n",
        "\n",
        "- Setup Cost = $(\\frac{K_{a} + K_{b}}{T})$\n",
        "- Holding Cost =  $\\frac{1}{2}(Q_{a}*h_{a} + Q_{b}*h_{b})$\n",
        "- Purchase Cost = $\\lambda_{a} * unitcost_{a} + \\lambda_{b} * unitcost_{b}$\n",
        "\n",
        "So Total Cost = $(\\frac{K_{a} + K_{b}}{T}) + \\frac{1}{2}(\\lambda_{a}*h_{a} + \\lambda_{b}*h_{b}) + \\lambda_{a} * unitcost_{a} + \\lambda_{b} * unitcost_{b} $\n",
        "\n",
        "In order to minimize the total cost function with respect to T, we take the derivative of the total cost function with respect to T and make it equal to zero: $\\frac{\\delta TC(T)}{\\delta T} = \\frac{-(k_{a}+k_{b})}{T^2} + \\frac{1}{2}(\\lambda_a*h_a + \\lambda_b*h_b) = 0$\n",
        "\n",
        "So $T^* = \\sqrt{\\frac{2(k_{a}+k_{b})}{\\lambda_a*h_a + \\lambda_b*h_b}}$"
      ]
    },
    {
      "cell_type": "code",
      "execution_count": null,
      "metadata": {
        "colab": {
          "base_uri": "https://localhost:8080/"
        },
        "id": "9KrWRUBX8Ocu",
        "outputId": "911bfcd7-b4e3-46d4-a2a2-369ce4e21696"
      },
      "outputs": [
        {
          "name": "stdout",
          "output_type": "stream",
          "text": [
            "Optimal time T between successive orders (in years): 0.0327253795782544\n",
            "Order quantity for product A: 98\n",
            "Order quantity for product B: 118\n"
          ]
        }
      ],
      "source": [
        "def T_star(k_a, k_b, l_a, l_b, h_a, h_b):\n",
        "  T_year = math.sqrt((2 * (k_a+k_b)) / (l_a * h_a + l_b * h_b))\n",
        "  return T_year\n",
        "\n",
        "k_a = 200\n",
        "k_b = 200\n",
        "l_a = 250*12\n",
        "l_b = 300*12\n",
        "h_a = 105\n",
        "h_b = 120\n",
        "\n",
        "T_year = T_star(k_a, k_b, l_a, l_b, h_a, h_b)\n",
        "print(\"Optimal time T between successive orders (in years):\", T_year)\n",
        "order_a = round(l_a * T_year)\n",
        "print(\"Order quantity for product A:\", order_a)\n",
        "order_b = round(l_b * T_year)\n",
        "print(\"Order quantity for product B:\", order_b)"
      ]
    },
    {
      "attachments": {},
      "cell_type": "markdown",
      "metadata": {
        "id": "i89eJ-ZY8Bbt"
      },
      "source": [
        "4. What is the resulting total setup and holding cost? How does it com- pare to the cost in part 1 when you order A and B separately? Explain why."
      ]
    },
    {
      "cell_type": "code",
      "execution_count": null,
      "metadata": {
        "colab": {
          "base_uri": "https://localhost:8080/"
        },
        "id": "T0zk64it8PM2",
        "outputId": "c84d4da8-8be4-46ed-97b1-67f818e8b1f1"
      },
      "outputs": [
        {
          "name": "stdout",
          "output_type": "stream",
          "text": [
            "The setup cost for ordering product A and B together is: $12222.9\n",
            "The holding cost for ordering product A and B together is: $12225.0\n"
          ]
        }
      ],
      "source": [
        "Setup_Cost_Total = (k_a+k_b)/T_year\n",
        "Holding_Cost_Total = (1/2) * (order_a*h_a+order_b*h_b)\n",
        "print(\"The setup cost for ordering product A and B together is: ${:.1f}\".format(Setup_Cost_Total))\n",
        "print(\"The holding cost for ordering product A and B together is: ${}\".format(Holding_Cost_Total))"
      ]
    },
    {
      "cell_type": "code",
      "execution_count": null,
      "metadata": {
        "colab": {
          "base_uri": "https://localhost:8080/"
        },
        "id": "2pAAFeS5gRdl",
        "outputId": "3e054c82-cb4f-4c91-83a2-c94b9f6b7d0a"
      },
      "outputs": [
        {
          "name": "stdout",
          "output_type": "stream",
          "text": [
            "The setup cost for ordering product A and B separately is: $12152.9\n",
            "The holding cost for ordering product A and B separately is: $12165\n"
          ]
        }
      ],
      "source": [
        "print(\"The setup cost for ordering product A and B separately is: ${:.1f}\".format(Setup_Cost_A+ Setup_Cost_B))\n",
        "print(\"The holding cost for ordering product A and B separately is: ${}\".format(Holding_Cost_A+ Holding_Cost_B))"
      ]
    }
  ],
  "metadata": {
    "colab": {
      "provenance": []
    },
    "kernelspec": {
      "display_name": "Python 3",
      "name": "python3"
    },
    "language_info": {
      "name": "python"
    }
  },
  "nbformat": 4,
  "nbformat_minor": 0
}
