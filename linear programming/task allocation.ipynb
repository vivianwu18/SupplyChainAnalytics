{
  "cells": [
    {
      "attachments": {},
      "cell_type": "markdown",
      "metadata": {
        "id": "yu3FMc7N7XLd"
      },
      "source": [
        "## Task Allocation"
      ]
    },
    {
      "attachments": {},
      "cell_type": "markdown",
      "metadata": {
        "id": "NcqTgPKd7Yi2"
      },
      "source": [
        "**Decision Variables:**\n",
        "- $x_i$ ∈ {0, 1} for each task i, $x_i$ = 1 if task i is assigned to machine A, $x_i$ = 0 if task i is assigned to machine B.\n",
        "- $y_{ij}$ ∈ {0, 1} for each pair (i, j) in all pairs of tasks that share similar context, $y_{ij}$ = 1 if tasks i and j are assigned to different machines, and $y_{ij}$ = 0 if task i and j are assigned to the same machine.\n",
        "\n",
        "**Objective Function:**\n",
        "\n",
        "Minimize $∑ (d * y_{ij}) + ∑ (c * (1 - x_i)) + ∑ (c * x_i)$\n",
        "\n",
        "**Constraints:**\n",
        "- $y_{ij} >= x_i - x_j$\n",
        "- $y_{ij} >= x_j - x_i$"
      ]
    },
    {
      "cell_type": "code",
      "execution_count": null,
      "metadata": {
        "colab": {
          "base_uri": "https://localhost:8080/"
        },
        "id": "UMgf_0D_7Fh-",
        "outputId": "4adf5b0c-7989-4ed5-e2ce-0f13e30f34d5"
      },
      "outputs": [
        {
          "name": "stdout",
          "output_type": "stream",
          "text": [
            "Task 1 is assigned to machine A.\n",
            "Task 2 is assigned to machine B.\n",
            "Task 3 is assigned to machine A.\n",
            "Task 4 is assigned to machine A.\n",
            "Task 5 is assigned to machine A.\n",
            "Task 6 is assigned to machine B.\n",
            "Task 7 is assigned to machine B.\n",
            "Task 8 is assigned to machine B.\n",
            "Task 9 is assigned to machine B.\n",
            "Task 10 is assigned to machine A.\n",
            "Task 11 is assigned to machine B.\n"
          ]
        }
      ],
      "source": [
        "from pyomo.environ import *\n",
        "\n",
        "# Define the parameters\n",
        "c = 15\n",
        "d = 10\n",
        "A = {1, 2, 3, 4, 5}\n",
        "B = {6, 7, 8, 9, 10, 11}\n",
        "pairs = [(1, 5), (1, 10), (2, 7), (2, 8), (2, 9), (2, 10), (3, 10), (4, 10), (5, 6), (5, 11), (7, 9)]\n",
        "tasks = A | B\n",
        "\n",
        "# Create the model\n",
        "model = ConcreteModel()\n",
        "\n",
        "# Define the decision variables\n",
        "model.x = Var(tasks, domain = Binary)  \n",
        "model.y = Var(pairs, domain = Binary)  \n",
        "\n",
        "# Define the objective function\n",
        "model.obj = Objective(expr = sum(d * model.y[i,j] for i,j in pairs) + \n",
        "                      sum(c * (1 - model.x[i]) for i in A) + \n",
        "                      sum(c * model.x[i] for i in B), sense = minimize)\n",
        "\n",
        "# Define Constraints\n",
        "model.constraints = ConstraintList()\n",
        "for i,j in pairs:\n",
        "    model.constraints.add(model.y[i,j] >= model.x[i] - model.x[j])\n",
        "    model.constraints.add(model.y[i,j] >= model.x[j] - model.x[i])\n",
        "\n",
        "# Solve it\n",
        "solver = SolverFactory('glpk')\n",
        "solver.solve(model)\n",
        "\n",
        "for i in tasks:\n",
        "    if model.x[i].value == 1:\n",
        "        print(f'Task {i} is assigned to machine A.')\n",
        "    else:\n",
        "        print(f'Task {i} is assigned to machine B.')"
      ]
    }
  ],
  "metadata": {
    "colab": {
      "provenance": []
    },
    "kernelspec": {
      "display_name": "Python 3",
      "name": "python3"
    },
    "language_info": {
      "name": "python"
    }
  },
  "nbformat": 4,
  "nbformat_minor": 0
}
