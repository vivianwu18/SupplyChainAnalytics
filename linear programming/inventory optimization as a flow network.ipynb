{
  "cells": [
    {
      "cell_type": "code",
      "execution_count": null,
      "metadata": {
        "id": "to_4xZGp-9Ri"
      },
      "outputs": [],
      "source": [
        "import pandas as pd\n",
        "import numpy as np\n",
        "import scipy.stats as stats"
      ]
    },
    {
      "attachments": {},
      "cell_type": "markdown",
      "metadata": {
        "id": "LNbYw6PD6tJN"
      },
      "source": [
        "## Inventory Optimization as a Flow network"
      ]
    },
    {
      "attachments": {},
      "cell_type": "markdown",
      "metadata": {
        "id": "S3vLqpGy7H3r"
      },
      "source": [
        "**Decision Variables :**\n",
        "- Quantity of items produced at each day i : $x_{i}$\n",
        "- Quantity of items sold at each day i : $y_{i}$\n",
        "- Quantity of items in stock at the end of each day i : $z_{i}$\n",
        "- Quantity of items defered at each day i : $w_{i}$\n",
        "\n",
        "**Objective Function :** \n",
        "Maximize $[p*y_{i} - c_{i}*x_{i} - h*z_{i} - b*w_{i}]$\n",
        "\n",
        "**Constraints :**\n",
        "1. Balance constraint : The number of products deferred equals to the number of products that are unable to be met, in other words, the quantity of demand that is larger than , so $w_{i} = d_{i} - y_{i} $.\n",
        "2. Non-negative constraint :  The variable $x_{i}$, $y_{i}$, $z_{i}$ and $w_{i}$ are non-negative, so $x_{i}>=0,y_{i}>=0,z_{i}>=0,w_{i}>=0 $.\n",
        "3. The initial inventory at day 1 is zero, so $z_{0}=0$, the inventory at day i (i not equals to 0) is the sum of inventory of day i-1 and quantity produced but not sold, so $z_{i}=z_{i-1} + x_{i} - y_{i}$\n",
        "4. Demand constraint : the number of items sold on day i cannot exceed the demand $d_{i}$, so $y_{i}<=d_{i} $for i from 1 to T."
      ]
    },
    {
      "cell_type": "code",
      "execution_count": null,
      "metadata": {
        "id": "g6vM_ZvfKuC_"
      },
      "outputs": [],
      "source": [
        "import pyomo.environ as pyo\n",
        "\n",
        "def inventory_optimization(p, h, b, d, c):\n",
        "    # Define the index set for days\n",
        "    days = range(0, len(d))\n",
        "\n",
        "    # Create a concrete Pyomo model\n",
        "    model = pyo.ConcreteModel()\n",
        "\n",
        "    # Define the decision variables\n",
        "    model.x = pyo.Var(days, within=pyo.NonNegativeIntegers) # quantity of items produced at each day i\n",
        "    model.y = pyo.Var(days, within=pyo.NonNegativeIntegers) # quantity of items sold at each day i\n",
        "    model.z = pyo.Var(days, within=pyo.NonNegativeIntegers) # quantity of items in stock at the end of each day i\n",
        "    model.w = pyo.Var(days, within=pyo.NonNegativeIntegers) # quantity of items deferred at each day i\n",
        "\n",
        "    # Define the objective function\n",
        "    model.profit = pyo.Objective(expr=sum(p*model.y[i] - c[i]*model.x[i] - h*model.z[i] - b*model.w[i] for i in days), sense=pyo.maximize)\n",
        "\n",
        "    # Define the balance constraints\n",
        "    model.balance = pyo.ConstraintList()\n",
        "    for i in days:\n",
        "        if i == 0:\n",
        "            # model.balance.add(model.z[0] == 0) # initial inventory is zero\n",
        "            model.balance.add(model.z[i] == model.x[i] - model.y[i]) # inventory balance\n",
        "        else:\n",
        "            model.balance.add(model.z[i] == model.z[i-1] + model.x[i] - model.y[i]) # inventory balance\n",
        "\n",
        "    # Define the non-negativity constraints\n",
        "    model.non_negativity = pyo.ConstraintList()\n",
        "    for i in days:\n",
        "        model.non_negativity.add(model.x[i] >= 0)\n",
        "        model.non_negativity.add(model.y[i] >= 0)\n",
        "        model.non_negativity.add(model.z[i] >= 0)\n",
        "        model.non_negativity.add(model.w[i] >= 0)\n",
        "\n",
        "    # Define the demand constraints\n",
        "    model.demand = pyo.ConstraintList()\n",
        "    for i in days:\n",
        "        model.demand.add(model.y[i] <= d[i])\n",
        "        model.demand.add(model.w[i] == d[i] - model.y[i]) # balance constraint\n",
        "\n",
        "    # Solve the model\n",
        "    solver = pyo.SolverFactory('glpk')\n",
        "    solver.solve(model)\n",
        "\n",
        "    # Print the results\n",
        "    print('Results:')\n",
        "    print('{:<5s} {:<10s} {:<10s} {:<10s} {:<10s}'.format('Day', 'Produce', 'Sold', 'Inventory', 'Deferred'))\n",
        "    for i in days:\n",
        "        print('{:<5d} {:<10d} {:<10d} {:<10d} {:<10d}'.format(i, int(model.x[i]()), int(model.y[i]()), int(model.z[i]()), int(model.w[i]())))"
      ]
    },
    {
      "cell_type": "code",
      "execution_count": null,
      "metadata": {
        "colab": {
          "base_uri": "https://localhost:8080/"
        },
        "id": "wOD9BV__7PpB",
        "outputId": "86c01bc9-22e7-4ab9-d741-0b5f5ee674cb"
      },
      "outputs": [
        {
          "name": "stdout",
          "output_type": "stream",
          "text": [
            "Results:\n",
            "Day   Produce    Sold       Inventory  Deferred  \n",
            "0     4          4          0          0         \n",
            "1     5          5          0          0         \n",
            "2     17         3          14         0         \n",
            "3     0          6          8          0         \n",
            "4     0          8          0          0         \n",
            "5     2          2          0          0         \n",
            "6     0          0          0          0         \n",
            "7     10         6          4          0         \n",
            "8     0          4          0          0         \n",
            "9     3          3          0          0         \n"
          ]
        }
      ],
      "source": [
        "# Use the function to do the calculation\n",
        "p = 8\n",
        "h = 1\n",
        "b = 2\n",
        "d = [4, 5, 3, 6, 8, 2, 0, 6, 4, 3]\n",
        "c = [1, 2, 3, 6, 8, 2, 1, 2, 5, 3]\n",
        "\n",
        "inventory_optimization(p, h, b, d, c)"
      ]
    }
  ],
  "metadata": {
    "colab": {
      "provenance": []
    },
    "kernelspec": {
      "display_name": "Python 3",
      "name": "python3"
    },
    "language_info": {
      "name": "python"
    }
  },
  "nbformat": 4,
  "nbformat_minor": 0
}
