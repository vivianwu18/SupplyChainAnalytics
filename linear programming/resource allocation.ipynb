{
  "cells": [
    {
      "attachments": {},
      "cell_type": "markdown",
      "metadata": {
        "id": "ol9BrZRVNa7N"
      },
      "source": [
        "## Resource Allocation Linear Program\n",
        "\n",
        "A policy maker in Sacramento county needs to allocate some water to a group of n farmers in California from m reservoirs. Because the media will highlight any farmer who is very unhappy, the policy maker wants to maximize the minimum amount that any of the farmers receives. Reservoir i has capacity ui. If farmer j is served from reservoir i, then a fraction fij of the water gets lost in evaporation while being channeled to the farmer. Imagine that for every farmer who receives a non-zero amount of water from a given reservoir, a separate measuring meter is installed in that reservoir.\n",
        "\n",
        "### 1. Formulate this as a linear program."
      ]
    },
    {
      "attachments": {},
      "cell_type": "markdown",
      "metadata": {
        "id": "97Uy80lFrO5P"
      },
      "source": [
        "**Decision Variables:**\n",
        "\n",
        "* $x_{ij}$: the amount of water farmer j receives from reservoir i\n",
        "\n",
        "**Objective function:** \n",
        "\n",
        "The objective function is to maximize the minimum amount of water that any farmer receives:\n",
        "\n",
        "<center>\n",
        "\n",
        "$MAX z_{min}$\n",
        "\n",
        "$z_{min} ≤ \\sum_{i = 1}^{m} x_{ij}$ for all farmers j\n",
        "\n",
        "</center>\n",
        "\n",
        "**Constraints:**\n",
        "* The total amount of water allocated from each reservoir cannot exceed its capacity ui, which can be expressed as:\n",
        "\n",
        "  <center>\n",
        "\n",
        "  $\\sum_{j = 1}^{n} \\frac {x_{ij}} {(1 - f_{ij})} ≤ u_i$ \n",
        "  for all reservoirs i\n",
        "\n",
        "  </center>\n",
        "\n",
        "* Non-negativity constraints:\n",
        "  <center>\n",
        "\n",
        "  $x_{ij} ≥ 0$ for all farmers j, and all reservoirs i\n",
        "\n",
        "  $u_i ≥ 0$ for all reservoirs i\n",
        "\n",
        "  $1 ≥ f_{ij} ≥ 0$ for all farmers j, and all reservoirs i\n",
        "\n",
        "  $z_{min} ≥0$\n",
        "  \n",
        "  </center>"
      ]
    },
    {
      "attachments": {},
      "cell_type": "markdown",
      "metadata": {
        "id": "vR5dsChEqwAC"
      },
      "source": [
        "### 2. For an arbitrary optimal solution, what is the maximum number of meters that will be installed?"
      ]
    },
    {
      "attachments": {},
      "cell_type": "markdown",
      "metadata": {
        "id": "MZlNBpUMT6VQ"
      },
      "source": [
        "For an arbitrary optimal solution, the maximum number of meters that will be installed is equal to the number of reservoirs multiply the number of farmers, which can be expressed as:\n",
        "\n",
        "<center>\n",
        "\n",
        "max number of meters $ = m × n$\n",
        "\n",
        "</center>\n",
        "\n",
        "This means that every reservoir serves at least one farmer, so a meter is installed in the reservoir. In addition, we do not take all constraints into account as for now we only want to get an arbitary optimal solution rather than feasible solution."
      ]
    },
    {
      "attachments": {},
      "cell_type": "markdown",
      "metadata": {
        "id": "oDzRi7P-q9tV"
      },
      "source": [
        "### 3. What is the maximum number of meters that will be issued for a basic feasible optimal solution?"
      ]
    },
    {
      "attachments": {},
      "cell_type": "markdown",
      "metadata": {
        "id": "bTRig8NyUi4S"
      },
      "source": [
        "**Answer:** $m + n - 1$\n",
        "\n",
        "To ensure a basic feasible optimal solution, we need the number of binding constraints to be equal to the number of variables. In this case, we have a total of $mn + 1$ variables, where $mn$ represents the number of $x_{ij}$ variables and 1 represents the $z_{min}$ variable.\n",
        "\n",
        "We already have m constraints from the reservoir capacity constraint and n constraints from the farmer constraint. This accounts for a total of $m+n$ constraints. The remaining constraints must come from the $x_{ij} \\geq 0$ constraints, and the number of these constraints needed is $mn + 1 - (m + n)$.\n",
        "\n",
        "Since we can have a maximum of mn meters, in order to achieve a basic feasible optimal solution, we can have at most $mn - [(mn + 1)- (m + n)] = m + n - 1$ meters in this case. Therefore, we should ensure that the remaining constraints satisfy this limitation."
      ]
    },
    {
      "attachments": {},
      "cell_type": "markdown",
      "metadata": {
        "id": "da-kLlmEq_sU"
      },
      "source": [
        "#### 4. Prove that a basic feasible optimal solution will always exist."
      ]
    },
    {
      "attachments": {},
      "cell_type": "markdown",
      "metadata": {
        "id": "qBXEXheDc_nb"
      },
      "source": [
        "First, note that the feasible region of the linear program is a bounded polyhedron, since the capacity constraints form a bounded polyhedron and the non-negativity constraints define a non-empty region. Therefore, the feasible region is not empty.\n",
        "\n",
        "Next, note that the objective function is a continuous function on the feasible region. Therefore, the objective function has a minimum value on the feasible region, and the minimum value is achieved at one or more extreme points of the feasible region.\n",
        "\n",
        "Finally, note that any extreme point of the feasible region is a basic feasible solution. Therefore, there exists at least one basic feasible optimal solution."
      ]
    },
    {
      "attachments": {},
      "cell_type": "markdown",
      "metadata": {
        "id": "UB8Yju8lrCZw"
      },
      "source": [
        "### 5. Suppose farmer 2 cannot be served by reservoir 3 because the farmer is at a higher altitude than the the reservoir. How can you take this into account in your model without increasing the number of constraints or variables?"
      ]
    },
    {
      "attachments": {},
      "cell_type": "markdown",
      "metadata": {
        "id": "WFyf8YkeJ-ED"
      },
      "source": [
        "To take into account the fact that farmer 2 cannot be served by reservoir 3, we can modify the capacity constraint to $\\sum_{j = 1}^{n} \\frac {x_{ij}} {(1 - f_{ij})} ≤ u_i × (1 - \\delta_{i3})$ for all reservoirs i, where $\\delta_{i3} = 1$ if i is equal to 2 and $\\delta_{i3} = 0$ otherwise. This constraint ensure that no water is taken from resevoir 3 to farmer 2 but allowing other farmers to use the water from reservoir 3 if needed."
      ]
    },
    {
      "cell_type": "code",
      "execution_count": null,
      "metadata": {
        "id": "_tzkUEexSpBO"
      },
      "outputs": [],
      "source": []
    }
  ],
  "metadata": {
    "colab": {
      "provenance": []
    },
    "kernelspec": {
      "display_name": "Python 3",
      "name": "python3"
    },
    "language_info": {
      "name": "python"
    }
  },
  "nbformat": 4,
  "nbformat_minor": 0
}
