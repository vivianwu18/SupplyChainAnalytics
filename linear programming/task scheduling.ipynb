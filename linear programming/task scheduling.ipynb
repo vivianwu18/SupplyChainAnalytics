{
  "cells": [
    {
      "cell_type": "code",
      "execution_count": null,
      "metadata": {
        "id": "AdKeVHJ710uG"
      },
      "outputs": [],
      "source": [
        "!pip install -q pyomo\n",
        "!apt-get install -y -qq glpk-utils\n",
        "!apt-get install -y -qq coinor-cbc"
      ]
    },
    {
      "cell_type": "code",
      "execution_count": null,
      "metadata": {
        "id": "CQGx2N9-1ZM7"
      },
      "outputs": [],
      "source": [
        "from pyomo.environ import *\n",
        "from google.colab import files\n",
        "import numpy as np\n",
        "import pandas as pd"
      ]
    },
    {
      "attachments": {},
      "cell_type": "markdown",
      "metadata": {
        "id": "woU2msA51s8p"
      },
      "source": [
        "## Task Scheduling\n",
        "1. Formulate this problem as an LP. Clearly indicate your decision vari-\n",
        "ables, your objective function, and your constraints.\n",
        "2. Solve this in Pyomo."
      ]
    },
    {
      "cell_type": "code",
      "execution_count": null,
      "metadata": {
        "colab": {
          "base_uri": "https://localhost:8080/"
        },
        "id": "FyD7WpQu1rKU",
        "outputId": "caf5219e-8c68-438e-a01c-1b6d9143ba45"
      },
      "outputs": [
        {
          "name": "stdout",
          "output_type": "stream",
          "text": [
            "# ==========================================================\n",
            "# = Solver Results                                         =\n",
            "# ==========================================================\n",
            "# ----------------------------------------------------------\n",
            "#   Problem Information\n",
            "# ----------------------------------------------------------\n",
            "Problem: \n",
            "- Name: unknown\n",
            "  Lower bound: 29000.0\n",
            "  Upper bound: 29000.0\n",
            "  Number of objectives: 1\n",
            "  Number of constraints: 9\n",
            "  Number of variables: 13\n",
            "  Number of nonzeros: 12\n",
            "  Sense: minimize\n",
            "# ----------------------------------------------------------\n",
            "#   Solver Information\n",
            "# ----------------------------------------------------------\n",
            "Solver: \n",
            "- Status: ok\n",
            "  User time: -1.0\n",
            "  System time: 0.0\n",
            "  Wallclock time: 0.0\n",
            "  Termination condition: optimal\n",
            "  Termination message: Model was solved to optimality (subject to tolerances), and an optimal solution is available.\n",
            "  Statistics: \n",
            "    Branch and bound: \n",
            "      Number of bounded subproblems: None\n",
            "      Number of created subproblems: None\n",
            "    Black box: \n",
            "      Number of iterations: 4\n",
            "  Error rc: 0\n",
            "  Time: 0.05570173263549805\n",
            "# ----------------------------------------------------------\n",
            "#   Solution Information\n",
            "# ----------------------------------------------------------\n",
            "Solution: \n",
            "- number of solutions: 0\n",
            "  number of solutions displayed: 0\n"
          ]
        }
      ],
      "source": [
        "# create a model\n",
        "model = ConcreteModel()\n",
        "\n",
        "# declare decision variables (X_ij means that the hours of machine i used on part j)\n",
        "model.T11 = Var(domain=NonNegativeReals)  \n",
        "model.T12 = Var(domain=NonNegativeReals)  \n",
        "model.T14 = Var(domain=NonNegativeReals)  \n",
        "model.T21 = Var(domain=NonNegativeReals)  \n",
        "model.T22 = Var(domain=NonNegativeReals)  \n",
        "model.T23 = Var(domain=NonNegativeReals)  \n",
        "model.T31 = Var(domain=NonNegativeReals)  \n",
        "model.T32 = Var(domain=NonNegativeReals)  \n",
        "model.T33 = Var(domain=NonNegativeReals)  \n",
        "model.T34 = Var(domain=NonNegativeReals)  \n",
        "model.T43 = Var(domain=NonNegativeReals) \n",
        "model.T44 = Var(domain=NonNegativeReals)  \n",
        "\n",
        "# declare objective\n",
        "model.cost = Objective(expr = (model.T11 + model.T12 + model.T14)*300 + (model.T21 + model.T22 + model.T23)*250 + (model.T31 + model.T32 + model.T33 + model.T34)*350 + (model.T43 + model.T44)*200, sense = minimize)\n",
        "\n",
        "# declare constraints\n",
        "model.machineA_hours = Constraint(expr = model.T11 + model.T12 + model.T14 <= 60)\n",
        "model.machineB_hours = Constraint(expr = model.T21 + model.T22 + model.T23 <= 60)\n",
        "model.machineC_hours = Constraint(expr = model.T31 + model.T32 + model.T33 + model.T34 <= 50)\n",
        "model.machineD_hours = Constraint(expr = model.T43 + model.T44 <= 40)\n",
        "model.part1 = Constraint(expr = model.T11 * (1/30) + model.T21 * (1/30) + model.T31 * (1/25) == 1)\n",
        "model.part2 = Constraint(expr = model.T12 * (1/20) + model.T22 * (1/30) + model.T32 * (1/25) == 1)\n",
        "model.part3 = Constraint(expr = model.T23 * (1/30) + model.T33 * (1/25) + model.T43 * (1/40) == 1)\n",
        "model.part4 = Constraint(expr = model.T14 * (1/40) + model.T34 * (1/25) + model.T44 * (1/40) == 1)\n",
        "\n",
        "# model.pprint()\n",
        "\n",
        "# run the solver\n",
        "SolverFactory('cbc').solve(model).write()"
      ]
    },
    {
      "cell_type": "code",
      "execution_count": null,
      "metadata": {
        "colab": {
          "base_uri": "https://localhost:8080/"
        },
        "id": "z2xKWS-V1rHt",
        "outputId": "0873e354-4a2b-46c0-bef4-621b335d0896"
      },
      "outputs": [
        {
          "name": "stdout",
          "output_type": "stream",
          "text": [
            "\n",
            "Cost =  29000.0\n",
            "\n",
            "Decision Variables\n",
            "Hours of machine A spent on part 1 =  0.0\n",
            "Hours of machine A spent on part 2 =  20.0\n",
            "Hours of machine A spent on part 4 =  0.0\n",
            "Hours of machine B spent on part 1 =  30.0\n",
            "Hours of machine B spent on part 2 =  0.0\n",
            "Hours of machine B spent on part 3 =  30.0\n",
            "Hours of machine C spent on part 1 =  0.0\n",
            "Hours of machine C spent on part 2 =  0.0\n",
            "Hours of machine C spent on part 3 =  0.0\n",
            "Hours of machine C spent on part 4 =  0.0\n",
            "Hours of machine D spent on part 3 =  0.0\n",
            "Hours of machine D spent on part 4 =  40.0\n",
            "\n",
            "Constraints\n",
            "Machine A Hours =  20.0\n",
            "Machine B Hours =  60.0\n",
            "Machine C Hours =  0.0\n",
            "Machine D Hours =  40.0\n"
          ]
        }
      ],
      "source": [
        "# display solution\n",
        "print('\\nCost = ', model.cost())\n",
        "\n",
        "print('\\nDecision Variables')\n",
        "print('Hours of machine A spent on part 1 = ', model.T11())\n",
        "print('Hours of machine A spent on part 2 = ', model.T12())\n",
        "print('Hours of machine A spent on part 4 = ', model.T14())\n",
        "print('Hours of machine B spent on part 1 = ', model.T21())\n",
        "print('Hours of machine B spent on part 2 = ', model.T22())\n",
        "print('Hours of machine B spent on part 3 = ', model.T23())\n",
        "print('Hours of machine C spent on part 1 = ', model.T31())\n",
        "print('Hours of machine C spent on part 2 = ', model.T32())\n",
        "print('Hours of machine C spent on part 3 = ', model.T33())\n",
        "print('Hours of machine C spent on part 4 = ', model.T34())\n",
        "print('Hours of machine D spent on part 3 = ', model.T43())\n",
        "print('Hours of machine D spent on part 4 = ', model.T44())"
      ]
    }
  ],
  "metadata": {
    "colab": {
      "provenance": []
    },
    "kernelspec": {
      "display_name": "Python 3",
      "name": "python3"
    },
    "language_info": {
      "name": "python"
    }
  },
  "nbformat": 4,
  "nbformat_minor": 0
}
