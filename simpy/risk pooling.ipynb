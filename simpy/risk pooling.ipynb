{
  "cells": [
    {
      "attachments": {},
      "cell_type": "markdown",
      "metadata": {
        "id": "N9H7ezncY5IR"
      },
      "source": [
        "# Risk Pooling\n",
        "Simulate the risk pooling game as discussed in the lecture. For this problem as well, assume that one time step corresponds to one week. Consider two scenarios. One with two warehouses catering to the two different products (A,B) and the second scenario corresponding to a centralized warehouse. \n",
        "\n",
        "- Assume the demand for products A and B for both warehouses in scenario one comes from normal distributions N(40,12) and N(1,1) respectively. \n",
        "- Assume that the demand for the centralized warehouse in scenario 2 comes from N(80,20) and N(2, 2) respectively.\n",
        "- Assume a random lead time of [1, 2] weeks. (i.e. the lead time can be 1 or 2 weeks with equal probability).\n",
        "- Assume the warehouses use the (s, S) policy to manage inventory. Assume that the starting inventory for both warehouses in scenario 1 is 50 units and 2 units for products A and B respectively and for scenario 2 2, it is 80 units and 3 units respectively.\n",
        "\n",
        "Run this scenario for 100 time steps.\n",
        "1. Find out the stockout rate (fraction of time periods) in scenario 1 as well as scenario 2.\n",
        "2. Compare the total holding inventory in both the scenarios over the toal time.(use the same parameters for holding cost, ordering cost and service rate as mentioned in the lecture notes.)\n",
        "- maintain 97% service level \n",
        "- $60 order cost\n",
        "- \\$.27 weekly holding cost "
      ]
    },
    {
      "cell_type": "code",
      "execution_count": null,
      "metadata": {
        "id": "Bvb_BKT_U5c0"
      },
      "outputs": [],
      "source": [
        "import simpy\n",
        "import numpy as np\n",
        "import pandas as pd\n",
        "import random"
      ]
    },
    {
      "cell_type": "code",
      "execution_count": null,
      "metadata": {
        "colab": {
          "base_uri": "https://localhost:8080/"
        },
        "id": "C89V6vrI9e3I",
        "outputId": "95e2c5e7-927b-4471-972b-bf00a4f3fbca"
      },
      "outputs": [
        {
          "name": "stdout",
          "output_type": "stream",
          "text": [
            "        Scenario  Stockout Rate Product A  Stockout Rate Product B  \\\n",
            "0  Decentralized                     0.03                     0.01   \n",
            "1    Centralized                     0.02                     0.01   \n",
            "\n",
            "   Total Holding Cost Product A  Total Holding Cost Product B  \n",
            "0                   4810.551287                   2962.440641  \n",
            "1                   6849.347951                   2395.111652  \n"
          ]
        }
      ],
      "source": [
        "# Set seed for repeatability\n",
        "np.random.seed(7)\n",
        "random.seed(7)\n",
        "\n",
        "# Constants\n",
        "lead_time = [1, 2]\n",
        "mean_lead_time = np.mean(lead_time)\n",
        "sd_lead_time = np.std(lead_time)\n",
        "time_steps = 100\n",
        "\n",
        "order_cost = 60\n",
        "holding_cost = 0.27\n",
        "z_alpha = 2.17  # for 97% service level\n",
        "\n",
        "# Functions\n",
        "def calculate_s(mean_demand, stddev_demand):\n",
        "    return mean_demand * mean_lead_time + z_alpha * np.sqrt(mean_demand**2 * mean_lead_time + stddev_demand**2 * sd_lead_time**2)\n",
        "\n",
        "def calculate_S(D):\n",
        "    return order_cost + np.sqrt(2 * D * order_cost / holding_cost)\n",
        "\n",
        "def check_demand(demand_mean, demand_std_dev):\n",
        "    return max(0, np.random.normal(demand_mean, demand_std_dev))\n",
        "\n",
        "# Simulate an inventory system\n",
        "# Simulate an inventory system\n",
        "def inventory_system(env, inventory, demand_mean, demand_std_dev, output):\n",
        "    total_held_inventory = 0\n",
        "    stockouts = 0\n",
        "\n",
        "    for _ in range(time_steps):\n",
        "        demand = check_demand(demand_mean, demand_std_dev)\n",
        "        actual_demand = min(inventory.level, demand)\n",
        "        \n",
        "        if actual_demand > 0:  # only get from inventory when actual_demand is > 0\n",
        "            yield inventory.get(actual_demand)\n",
        "\n",
        "        if actual_demand < demand:\n",
        "            stockouts += 1\n",
        "\n",
        "        yield env.timeout(1)\n",
        "\n",
        "        if inventory.level < calculate_s(demand_mean, demand_std_dev):\n",
        "            env.process(order_stock(env, inventory, calculate_S(demand_mean)))\n",
        "\n",
        "        total_held_inventory += inventory.level\n",
        "\n",
        "    output[\"stockout_rate\"] = stockouts / time_steps\n",
        "    output[\"total_holding_cost\"] = total_held_inventory * holding_cost\n",
        "\n",
        "# Order stock\n",
        "def order_stock(env, inventory, S):\n",
        "    order_qty = max(0, S - inventory.level)\n",
        "    if order_qty > 0:\n",
        "        yield env.timeout(random.choice(lead_time))\n",
        "        yield inventory.put(order_qty)\n",
        "\n",
        "# Parameters\n",
        "scenarios = [\n",
        "    ('Decentralized', 50, 2, 40, 12, 1, 1),\n",
        "    ('Centralized', 80, 3, 80, 20, 2, 2),\n",
        "]\n",
        "\n",
        "# Run simulations\n",
        "results = []\n",
        "\n",
        "for scenario_name, starting_inventory_A, starting_inventory_B, demand_mean_A, demand_sd_A, demand_mean_B, demand_sd_B in scenarios:\n",
        "    output_A = {}\n",
        "    env_A = simpy.Environment()\n",
        "    inventory_A = simpy.Container(env_A, init=starting_inventory_A)\n",
        "    env_A.process(inventory_system(env_A, inventory_A, demand_mean_A, demand_sd_A, output_A))\n",
        "    env_A.run()\n",
        "\n",
        "    output_B = {}\n",
        "    env_B = simpy.Environment()\n",
        "    inventory_B = simpy.Container(env_B, init=starting_inventory_B)\n",
        "    env_B.process(inventory_system(env_B, inventory_B, demand_mean_B, demand_sd_B, output_B))\n",
        "    env_B.run()\n",
        "\n",
        "    results.append({\n",
        "        'Scenario': scenario_name,\n",
        "        'Stockout Rate Product A': output_A[\"stockout_rate\"],\n",
        "        'Stockout Rate Product B': output_B[\"stockout_rate\"],\n",
        "        'Total Holding Cost Product A': output_A[\"total_holding_cost\"],\n",
        "        'Total Holding Cost Product B': output_B[\"total_holding_cost\"],\n",
        "    })\n",
        "\n",
        "# Create DataFrame\n",
        "results_df = pd.DataFrame(results)\n",
        "print(results_df)"
      ]
    }
  ],
  "metadata": {
    "colab": {
      "provenance": []
    },
    "kernelspec": {
      "display_name": "Python 3",
      "name": "python3"
    },
    "language_info": {
      "name": "python"
    }
  },
  "nbformat": 4,
  "nbformat_minor": 0
}
